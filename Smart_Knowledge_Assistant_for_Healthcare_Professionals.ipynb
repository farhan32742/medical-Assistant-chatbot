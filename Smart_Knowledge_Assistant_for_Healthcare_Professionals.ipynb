{
  "cells": [
    {
      "cell_type": "code",
      "execution_count": null,
      "metadata": {
        "colab": {
          "base_uri": "https://localhost:8080/"
        },
        "id": "MqIkd2zJtNTY",
        "outputId": "48bae4db-9531-42dd-d34b-6fd53cce5796"
      },
      "outputs": [
        {
          "name": "stdout",
          "output_type": "stream",
          "text": [
            "Drive already mounted at /content/drive; to attempt to forcibly remount, call drive.mount(\"/content/drive\", force_remount=True).\n"
          ]
        }
      ],
      "source": [
        "# prompt: mount google drive\n",
        "\n",
        "from google.colab import drive\n",
        "drive.mount('/content/drive')\n"
      ]
    },
    {
      "cell_type": "code",
      "execution_count": null,
      "metadata": {
        "id": "Y3oQ5NdttgTe"
      },
      "outputs": [],
      "source": [
        "!pip install -q pymupdf langchain langchain_community langchain-google-genai"
      ]
    },
    {
      "cell_type": "code",
      "execution_count": null,
      "metadata": {
        "id": "2_HgR1yatgZA"
      },
      "outputs": [],
      "source": [
        "import warnings\n",
        "warnings.filterwarnings(\"ignore\", category=UserWarning)\n"
      ]
    },
    {
      "cell_type": "code",
      "execution_count": null,
      "metadata": {
        "id": "iyYzlN1TtgVi"
      },
      "outputs": [],
      "source": [
        "from langchain_community.document_loaders import PyMuPDFLoader\n",
        "loader =  PyMuPDFLoader(\"/content/drive/MyDrive/The-Gale-Encyclopedia-of-Medicine-3rd-Edition-staibabussalamsula.ac_.id_.pdf\")\n",
        "pages = loader.load_and_split()"
      ]
    },
    {
      "cell_type": "code",
      "execution_count": null,
      "metadata": {
        "id": "YPNawaWStgao"
      },
      "outputs": [],
      "source": [
        "len(pages)"
      ]
    },
    {
      "cell_type": "code",
      "execution_count": null,
      "metadata": {
        "id": "S6Jl4qSktgeg"
      },
      "outputs": [],
      "source": [
        "pages[10]"
      ]
    },
    {
      "cell_type": "code",
      "execution_count": null,
      "metadata": {
        "id": "1hoAYO9XtggD"
      },
      "outputs": [],
      "source": [
        "from langchain_text_splitters import RecursiveCharacterTextSplitter"
      ]
    },
    {
      "cell_type": "code",
      "execution_count": null,
      "metadata": {
        "id": "99PrqlCUtgkQ"
      },
      "outputs": [],
      "source": [
        "text_splitter = RecursiveCharacterTextSplitter(\n",
        "    # Set a really small chunk size, just to show.\n",
        "    chunk_size=1000,\n",
        "    chunk_overlap=100,\n",
        "\n",
        ")"
      ]
    },
    {
      "cell_type": "code",
      "execution_count": null,
      "metadata": {
        "id": "nZeelDAitgl5"
      },
      "outputs": [],
      "source": [
        "text = text_splitter.split_documents(pages)"
      ]
    },
    {
      "cell_type": "code",
      "execution_count": null,
      "metadata": {
        "id": "Bumox_7Vtgp4"
      },
      "outputs": [],
      "source": [
        "type(text)"
      ]
    },
    {
      "cell_type": "code",
      "execution_count": null,
      "metadata": {
        "id": "GY6dNKku8xbc"
      },
      "outputs": [],
      "source": [
        "print(\"Total number of documents: \",len(text))"
      ]
    },
    {
      "cell_type": "code",
      "execution_count": null,
      "metadata": {
        "id": "b57xBeli9Uig"
      },
      "outputs": [],
      "source": [
        "## now model is data is ready for embedding and storing the data in vector database"
      ]
    },
    {
      "cell_type": "code",
      "execution_count": null,
      "metadata": {
        "id": "xGo0w4DB952P"
      },
      "outputs": [],
      "source": [
        "!pip install -q chromadb\n"
      ]
    },
    {
      "cell_type": "code",
      "execution_count": null,
      "metadata": {
        "id": "Fp6PQAID-ZSf"
      },
      "outputs": [],
      "source": [
        "import os\n",
        "from langchain_google_genai import GoogleGenerativeAIEmbeddings\n",
        "from langchain.vectorstores import Chroma"
      ]
    },
    {
      "cell_type": "code",
      "execution_count": null,
      "metadata": {
        "id": "cjDB3sU9-RJ0"
      },
      "outputs": [],
      "source": [
        "os.environ[\"GEMINI_API_KEY\"] = \"\""
      ]
    },
    {
      "cell_type": "code",
      "execution_count": null,
      "metadata": {
        "id": "WTel-xnPAYqx"
      },
      "outputs": [],
      "source": [
        "#print(os.environ.get(\"GEMINI_API_KEY\"))\n",
        "from getpass import getpass\n",
        "\n",
        "if \"GOOGLE_API_KEY\" not in os.environ:\n",
        "    os.environ[\"GOOGLE_API_KEY\"] = getpass(\"GOOGLE_API_KEY\")"
      ]
    },
    {
      "cell_type": "code",
      "execution_count": null,
      "metadata": {
        "id": "3wJUNS7f_pDT"
      },
      "outputs": [],
      "source": [
        "#initialize gemini embeding model\n",
        "embeddings = GoogleGenerativeAIEmbeddings(model=\"models/embedding-001\")"
      ]
    },
    {
      "cell_type": "code",
      "execution_count": null,
      "metadata": {
        "id": "AjvpT3Yb_pE5"
      },
      "outputs": [],
      "source": [
        "persist_directory = 'db'\n",
        "\n",
        "vectordb = Chroma.from_documents(documents=text,\n",
        "                                 embedding=embeddings,\n",
        "                                 persist_directory=persist_directory)"
      ]
    },
    {
      "cell_type": "code",
      "execution_count": null,
      "metadata": {
        "id": "FsXqX4-D-ZXy"
      },
      "outputs": [],
      "source": [
        "vectordb.persist()"
      ]
    },
    {
      "cell_type": "code",
      "execution_count": null,
      "metadata": {
        "id": "OOkLRqj7FmtR"
      },
      "outputs": [],
      "source": [
        "retriever = vectordb.as_retriever()"
      ]
    },
    {
      "cell_type": "code",
      "execution_count": null,
      "metadata": {
        "id": "4RPofsu2imKG"
      },
      "outputs": [],
      "source": []
    },
    {
      "cell_type": "code",
      "execution_count": null,
      "metadata": {
        "id": "ELO6SIcFFmu7"
      },
      "outputs": [],
      "source": [
        "docs = retriever.get_relevant_documents(\"which tablet is for headache?\")"
      ]
    },
    {
      "cell_type": "code",
      "execution_count": null,
      "metadata": {
        "id": "5lLTpNvoFmz4"
      },
      "outputs": [],
      "source": [
        "retriever1 = vectordb.as_retriever(search_type=\"similarity\")"
      ]
    },
    {
      "cell_type": "code",
      "execution_count": null,
      "metadata": {
        "id": "tmPoPJIMpKe4"
      },
      "outputs": [],
      "source": [
        "retrieved_docs = retriever.invoke(\"which tablet is for headache?\")\n"
      ]
    },
    {
      "cell_type": "code",
      "execution_count": null,
      "metadata": {
        "id": "IV9K3QVypKiB"
      },
      "outputs": [],
      "source": [
        "retrieved_docs\n",
        "print(retrieved_docs[3].page_content)"
      ]
    },
    {
      "cell_type": "code",
      "execution_count": null,
      "metadata": {
        "id": "iNVD4MO6l2aW"
      },
      "outputs": [],
      "source": []
    },
    {
      "cell_type": "markdown",
      "metadata": {
        "id": "m_dXJhq9l5QL"
      },
      "source": [
        "## **code to run the existing database**"
      ]
    },
    {
      "cell_type": "code",
      "execution_count": null,
      "metadata": {
        "id": "JT84schPl2h5"
      },
      "outputs": [],
      "source": [
        "persist_directory = '/content/drive/MyDrive/downloaded_folder'\n",
        "\n",
        "vectordb = Chroma(\n",
        "    persist_directory=persist_directory,\n",
        "    embedding_function=embeddings  # Provide the embedding function\n",
        ")\n"
      ]
    },
    {
      "cell_type": "code",
      "execution_count": null,
      "metadata": {
        "id": "FsARFNoMnPUL"
      },
      "outputs": [],
      "source": [
        "retriever1 = vectordb.as_retriever(search_type=\"similarity\")"
      ]
    },
    {
      "cell_type": "code",
      "execution_count": null,
      "metadata": {
        "id": "Nre2dfkQnPSI"
      },
      "outputs": [],
      "source": [
        "retrieved_docs = retriever1.invoke(\"which tablet is for headache?\")"
      ]
    },
    {
      "cell_type": "code",
      "execution_count": null,
      "metadata": {
        "colab": {
          "base_uri": "https://localhost:8080/"
        },
        "id": "gK6OTsqtl2lD",
        "outputId": "50d5b7d7-691c-4a27-b5e0-7d44717a8aae"
      },
      "outputs": [
        {
          "name": "stdout",
          "output_type": "stream",
          "text": [
            "inhibitors, 2:1139\n",
            "from SSRIs, 4:3335\n",
            "from stapedectomy, 4:3520\n",
            "stress-related, 4:3555–3556\n",
            "from tadalafil, 2:1360, 1364\n",
            "tension, 3:1692–1694\n",
            "transcutaneous electrical nerve\n",
            "stimulation for, 2:1265\n",
            "from trazodone, 2:1139\n",
            "vascular (See Migraine headache)\n",
            "from vertigo, 2:1203\n",
            "See also Tension headache\n",
            "Headgear, protective, 3:1691\n",
            "Healing\n",
            "therapeutic touch for, 5:3671–3674\n",
            "See also Wound healing\n",
            "Healing crisis, 2:1151\n"
          ]
        }
      ],
      "source": [
        "retrieved_docs\n",
        "print(retrieved_docs[3].page_content)"
      ]
    },
    {
      "cell_type": "code",
      "execution_count": null,
      "metadata": {
        "id": "LyoXrjtEn_3g"
      },
      "outputs": [],
      "source": []
    },
    {
      "cell_type": "code",
      "execution_count": null,
      "metadata": {
        "id": "6ngCHWWun__w"
      },
      "outputs": [],
      "source": []
    },
    {
      "cell_type": "code",
      "execution_count": null,
      "metadata": {
        "id": "M1wxrfTsFm1t"
      },
      "outputs": [],
      "source": [
        "from langchain_google_genai import ChatGoogleGenerativeAI\n",
        "\n",
        "llm = ChatGoogleGenerativeAI(\n",
        "    model=\"gemini-1.5-pro\",\n",
        "    temperature=0,\n",
        "    max_tokens=500,\n",
        "\n",
        ")"
      ]
    },
    {
      "cell_type": "code",
      "execution_count": null,
      "metadata": {
        "id": "LR2ugliYFm5N"
      },
      "outputs": [],
      "source": [
        "from langchain.chains import create_retrieval_chain\n",
        "from langchain.chains.combine_documents import create_stuff_documents_chain\n",
        "from langchain_core.prompts import ChatPromptTemplate"
      ]
    },
    {
      "cell_type": "code",
      "execution_count": null,
      "metadata": {
        "id": "mz0sANpdp_4f"
      },
      "outputs": [],
      "source": [
        "system_prompt = (\n",
        "    \"You are an assistant for question-answering tasks. \"\n",
        "    \"Use the following pieces of retrieved context to answer \"\n",
        "    \"the question. If you don't know the answer, say that you \"\n",
        "    \"don't know. Use three sentences maximum and keep the \"\n",
        "    \"answer concise.\"\n",
        "    \"\\n\\n\"\n",
        "    \"{context}\"\n",
        ")\n",
        "\n",
        "prompt = ChatPromptTemplate.from_messages(\n",
        "    [\n",
        "        (\"system\", system_prompt),\n",
        "        (\"human\", \"{input}\"),\n",
        "    ]\n",
        ")"
      ]
    },
    {
      "cell_type": "code",
      "execution_count": null,
      "metadata": {
        "id": "9RxV70C-qABN"
      },
      "outputs": [],
      "source": [
        "question_answer_chain = create_stuff_documents_chain(llm, prompt)\n",
        "rag_chain = create_retrieval_chain(retriever1, question_answer_chain)"
      ]
    },
    {
      "cell_type": "code",
      "execution_count": null,
      "metadata": {
        "colab": {
          "base_uri": "https://localhost:8080/"
        },
        "id": "GkKiVs19qhhG",
        "outputId": "299d520d-7d53-407b-ea5e-a8bcb7b5fd18"
      },
      "outputs": [
        {
          "name": "stdout",
          "output_type": "stream",
          "text": [
            "Ergotamine is available as tablets for headache.  Analgesics such as acetaminophen, caffeine, and a barbiturate are also combined in medications like Fioricet for headaches. These combination medicines require a physician's prescription.\n",
            "\n"
          ]
        }
      ],
      "source": [
        "response = rag_chain.invoke({\"input\": \"which tablets are for headache?\"})\n",
        "print(response[\"answer\"])"
      ]
    },
    {
      "cell_type": "code",
      "execution_count": null,
      "metadata": {
        "colab": {
          "base_uri": "https://localhost:8080/"
        },
        "id": "bRSGPxzdqhu9",
        "outputId": "150a889b-4cbf-4883-fded-336ee061f283"
      },
      "outputs": [
        {
          "name": "stdout",
          "output_type": "stream",
          "text": [
            "Ask a question (type 'exit' to quit): which tablets for fever?\n",
            "This text discusses remedies for various ailments, including the common cold and indigestion, but it does not list specific tablets for fever.  It does mention consulting a doctor before giving over-the-counter remedies to infants.  For information on fever-reducing medications, consult a healthcare professional.\n",
            "\n",
            "Ask a question (type 'exit' to quit): suggest me tablets for muscles pain\n",
            "Aspirin is a suggested tablet for muscle pain.  For chronic pain, antidepressants may be prescribed.  Additionally, muscle relaxants may be used short-term.\n",
            "\n",
            "Ask a question (type 'exit' to quit): i have a chest pain and also feeling pain in left arm what type of disease it could be and also suggest its medicines\n",
            "Chest pain radiating to the left arm is a potential symptom of a heart attack (myocardial infarction) or angina pectoris.  However, this requires immediate medical evaluation to determine the cause and appropriate treatment.  I cannot provide medical advice or recommend specific medicines.\n",
            "\n",
            "Ask a question (type 'exit' to quit): which medicine used in high blood pressure\n",
            "Several classes of medications are used to treat high blood pressure, including diuretics, beta-blockers, calcium channel blockers, ACE inhibitors, alpha-blockers, alpha-beta blockers, vasodilators, peripheral acting adrenergic antagonists, and centrally acting agonists.  Diuretics are often recommended as the first line of treatment.  The specific medication and dosage will depend on individual patient factors and the severity of the hypertension.\n",
            "\n",
            "Ask a question (type 'exit' to quit): exit\n",
            "Exiting the loop. Goodbye!\n"
          ]
        }
      ],
      "source": [
        "while True:\n",
        "    # Take user input\n",
        "    user_input = input(\"Ask a question (type 'exit' to quit): \")\n",
        "\n",
        "    # Exit condition\n",
        "    if user_input.lower() == \"exit\":\n",
        "        print(\"Exiting the loop. Goodbye!\")\n",
        "        break\n",
        "\n",
        "    # Get the response from the model\n",
        "    response = rag_chain.invoke({\"input\": user_input})\n",
        "\n",
        "    # Print the response\n",
        "    print(response[\"answer\"])"
      ]
    },
    {
      "cell_type": "code",
      "execution_count": null,
      "metadata": {
        "id": "4gkcRhYptqDL"
      },
      "outputs": [],
      "source": []
    },
    {
      "cell_type": "code",
      "execution_count": null,
      "metadata": {
        "id": "XUKfOyzdtqJM"
      },
      "outputs": [],
      "source": []
    },
    {
      "cell_type": "code",
      "execution_count": null,
      "metadata": {
        "id": "dvakpqjptqNH"
      },
      "outputs": [],
      "source": []
    },
    {
      "cell_type": "code",
      "execution_count": null,
      "metadata": {
        "id": "eIIGAZxzqqe7"
      },
      "outputs": [],
      "source": []
    },
    {
      "cell_type": "code",
      "execution_count": null,
      "metadata": {
        "id": "uJTqWVLnqqiI"
      },
      "outputs": [],
      "source": []
    },
    {
      "cell_type": "code",
      "execution_count": null,
      "metadata": {
        "id": "FA7rRVT_qqlR"
      },
      "outputs": [],
      "source": []
    },
    {
      "cell_type": "code",
      "execution_count": null,
      "metadata": {
        "id": "eT9Y1EeCqqn5"
      },
      "outputs": [],
      "source": [
        "# prompt: code to download the folder in local\n",
        "\n",
        "from google.colab import files\n",
        "import shutil\n",
        "\n",
        "# Specify the folder you want to download\n",
        "folder_to_download = '/content/db'  # Replace with the actual path\n",
        "\n",
        "# Create a zip archive of the folder\n",
        "shutil.make_archive('downloaded_folder', 'zip', folder_to_download)\n",
        "\n",
        "# Download the zip file\n",
        "files.download('downloaded_folder.zip')"
      ]
    },
    {
      "cell_type": "code",
      "execution_count": null,
      "metadata": {
        "id": "NRLgI0gQqqrN"
      },
      "outputs": [],
      "source": []
    },
    {
      "cell_type": "code",
      "execution_count": null,
      "metadata": {
        "id": "8sKtxNCXqquF"
      },
      "outputs": [],
      "source": []
    },
    {
      "cell_type": "code",
      "execution_count": null,
      "metadata": {
        "id": "pYzUwug8qqxr"
      },
      "outputs": [],
      "source": []
    }
  ],
  "metadata": {
    "accelerator": "GPU",
    "colab": {
      "gpuType": "T4",
      "provenance": []
    },
    "kernelspec": {
      "display_name": "Python 3",
      "name": "python3"
    },
    "language_info": {
      "name": "python"
    }
  },
  "nbformat": 4,
  "nbformat_minor": 0
}
